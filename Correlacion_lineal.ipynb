{
  "nbformat": 4,
  "nbformat_minor": 0,
  "metadata": {
    "colab": {
      "provenance": [],
      "toc_visible": true,
      "authorship_tag": "ABX9TyNYXnoBnguJMlZ741OnqzUo",
      "include_colab_link": true
    },
    "kernelspec": {
      "name": "python3",
      "display_name": "Python 3"
    },
    "language_info": {
      "name": "python"
    }
  },
  "cells": [
    {
      "cell_type": "markdown",
      "metadata": {
        "id": "view-in-github",
        "colab_type": "text"
      },
      "source": [
        "<a href=\"https://colab.research.google.com/github/Cervantes21/Estadistica_computacional/blob/main/Correlacion_lineal.ipynb\" target=\"_parent\"><img src=\"https://colab.research.google.com/assets/colab-badge.svg\" alt=\"Open In Colab\"/></a>"
      ]
    },
    {
      "cell_type": "code",
      "execution_count": 2,
      "metadata": {
        "id": "S6tekn8Co0pH"
      },
      "outputs": [],
      "source": [
        "# Importamos las librerías de uso.\n",
        "import pandas as pd\n",
        "import numpy as np\n",
        "import matplotlib.pyplot as plt\n",
        "import seaborn as sns\n",
        "#import the model\n",
        "from sklearn import linear_model\n",
        "reg = linear_model.LinearRegression()"
      ]
    },
    {
      "cell_type": "markdown",
      "source": [
        "# Inicio\n",
        "La siguente tabla muestra las alturas redondeadas en centímetros (cm) y los pesos en kilogramos (kg) de una muestra de 12 estudiantes del primer año de una determianda universidad.\n",
        "\n",
        "1. Obtenga un diagrama de dispersión para estos datos.\n",
        "\n",
        "2. Determine si existe relación lineal entre los datos.\n",
        "\n",
        "3. Obtenga las rectas de ajuste por mínimos cuadrados.\n",
        "4. ¿Cuál es el peso aproximado de una estudiante que mide 169 cm?\n",
        "\n",
        "5. ¿Cuál es la altura aproximada de un estudiante que pesa 77 kg?"
      ],
      "metadata": {
        "id": "uwsdzpIJqfHU"
      }
    },
    {
      "cell_type": "code",
      "source": [
        "# Creamos el conjuntos de datos a representar.\n",
        "\n",
        "alumnos = {\n",
        "    'altura_cm': [178,160,183,152,168,178,188,165,157,170,165,173],\n",
        "    'peso_kg': [69.8,67.5,81.0,60.8,70.2,75.6,80.1,72.0,59.4,65.3,62.6,68.4]\n",
        "}"
      ],
      "metadata": {
        "id": "98Dn0JBbrJ1N"
      },
      "execution_count": 3,
      "outputs": []
    },
    {
      "cell_type": "code",
      "source": [
        "df = pd.DataFrame(alumnos)\n",
        "# Creamos nuestro conjunto de datos y lo guardamos en una variable. df\n",
        "df"
      ],
      "metadata": {
        "colab": {
          "base_uri": "https://localhost:8080/",
          "height": 426
        },
        "id": "u6f_9Lr1vEZx",
        "outputId": "55eda305-1578-4856-d301-8e914e37bdce"
      },
      "execution_count": 4,
      "outputs": [
        {
          "output_type": "execute_result",
          "data": {
            "text/plain": [
              "    altura_cm  peso_kg\n",
              "0         178     69.8\n",
              "1         160     67.5\n",
              "2         183     81.0\n",
              "3         152     60.8\n",
              "4         168     70.2\n",
              "5         178     75.6\n",
              "6         188     80.1\n",
              "7         165     72.0\n",
              "8         157     59.4\n",
              "9         170     65.3\n",
              "10        165     62.6\n",
              "11        173     68.4"
            ],
            "text/html": [
              "\n",
              "  <div id=\"df-cacd9ea5-9d79-4346-9bcd-5717f9952f4b\">\n",
              "    <div class=\"colab-df-container\">\n",
              "      <div>\n",
              "<style scoped>\n",
              "    .dataframe tbody tr th:only-of-type {\n",
              "        vertical-align: middle;\n",
              "    }\n",
              "\n",
              "    .dataframe tbody tr th {\n",
              "        vertical-align: top;\n",
              "    }\n",
              "\n",
              "    .dataframe thead th {\n",
              "        text-align: right;\n",
              "    }\n",
              "</style>\n",
              "<table border=\"1\" class=\"dataframe\">\n",
              "  <thead>\n",
              "    <tr style=\"text-align: right;\">\n",
              "      <th></th>\n",
              "      <th>altura_cm</th>\n",
              "      <th>peso_kg</th>\n",
              "    </tr>\n",
              "  </thead>\n",
              "  <tbody>\n",
              "    <tr>\n",
              "      <th>0</th>\n",
              "      <td>178</td>\n",
              "      <td>69.8</td>\n",
              "    </tr>\n",
              "    <tr>\n",
              "      <th>1</th>\n",
              "      <td>160</td>\n",
              "      <td>67.5</td>\n",
              "    </tr>\n",
              "    <tr>\n",
              "      <th>2</th>\n",
              "      <td>183</td>\n",
              "      <td>81.0</td>\n",
              "    </tr>\n",
              "    <tr>\n",
              "      <th>3</th>\n",
              "      <td>152</td>\n",
              "      <td>60.8</td>\n",
              "    </tr>\n",
              "    <tr>\n",
              "      <th>4</th>\n",
              "      <td>168</td>\n",
              "      <td>70.2</td>\n",
              "    </tr>\n",
              "    <tr>\n",
              "      <th>5</th>\n",
              "      <td>178</td>\n",
              "      <td>75.6</td>\n",
              "    </tr>\n",
              "    <tr>\n",
              "      <th>6</th>\n",
              "      <td>188</td>\n",
              "      <td>80.1</td>\n",
              "    </tr>\n",
              "    <tr>\n",
              "      <th>7</th>\n",
              "      <td>165</td>\n",
              "      <td>72.0</td>\n",
              "    </tr>\n",
              "    <tr>\n",
              "      <th>8</th>\n",
              "      <td>157</td>\n",
              "      <td>59.4</td>\n",
              "    </tr>\n",
              "    <tr>\n",
              "      <th>9</th>\n",
              "      <td>170</td>\n",
              "      <td>65.3</td>\n",
              "    </tr>\n",
              "    <tr>\n",
              "      <th>10</th>\n",
              "      <td>165</td>\n",
              "      <td>62.6</td>\n",
              "    </tr>\n",
              "    <tr>\n",
              "      <th>11</th>\n",
              "      <td>173</td>\n",
              "      <td>68.4</td>\n",
              "    </tr>\n",
              "  </tbody>\n",
              "</table>\n",
              "</div>\n",
              "      <button class=\"colab-df-convert\" onclick=\"convertToInteractive('df-cacd9ea5-9d79-4346-9bcd-5717f9952f4b')\"\n",
              "              title=\"Convert this dataframe to an interactive table.\"\n",
              "              style=\"display:none;\">\n",
              "        \n",
              "  <svg xmlns=\"http://www.w3.org/2000/svg\" height=\"24px\"viewBox=\"0 0 24 24\"\n",
              "       width=\"24px\">\n",
              "    <path d=\"M0 0h24v24H0V0z\" fill=\"none\"/>\n",
              "    <path d=\"M18.56 5.44l.94 2.06.94-2.06 2.06-.94-2.06-.94-.94-2.06-.94 2.06-2.06.94zm-11 1L8.5 8.5l.94-2.06 2.06-.94-2.06-.94L8.5 2.5l-.94 2.06-2.06.94zm10 10l.94 2.06.94-2.06 2.06-.94-2.06-.94-.94-2.06-.94 2.06-2.06.94z\"/><path d=\"M17.41 7.96l-1.37-1.37c-.4-.4-.92-.59-1.43-.59-.52 0-1.04.2-1.43.59L10.3 9.45l-7.72 7.72c-.78.78-.78 2.05 0 2.83L4 21.41c.39.39.9.59 1.41.59.51 0 1.02-.2 1.41-.59l7.78-7.78 2.81-2.81c.8-.78.8-2.07 0-2.86zM5.41 20L4 18.59l7.72-7.72 1.47 1.35L5.41 20z\"/>\n",
              "  </svg>\n",
              "      </button>\n",
              "      \n",
              "  <style>\n",
              "    .colab-df-container {\n",
              "      display:flex;\n",
              "      flex-wrap:wrap;\n",
              "      gap: 12px;\n",
              "    }\n",
              "\n",
              "    .colab-df-convert {\n",
              "      background-color: #E8F0FE;\n",
              "      border: none;\n",
              "      border-radius: 50%;\n",
              "      cursor: pointer;\n",
              "      display: none;\n",
              "      fill: #1967D2;\n",
              "      height: 32px;\n",
              "      padding: 0 0 0 0;\n",
              "      width: 32px;\n",
              "    }\n",
              "\n",
              "    .colab-df-convert:hover {\n",
              "      background-color: #E2EBFA;\n",
              "      box-shadow: 0px 1px 2px rgba(60, 64, 67, 0.3), 0px 1px 3px 1px rgba(60, 64, 67, 0.15);\n",
              "      fill: #174EA6;\n",
              "    }\n",
              "\n",
              "    [theme=dark] .colab-df-convert {\n",
              "      background-color: #3B4455;\n",
              "      fill: #D2E3FC;\n",
              "    }\n",
              "\n",
              "    [theme=dark] .colab-df-convert:hover {\n",
              "      background-color: #434B5C;\n",
              "      box-shadow: 0px 1px 3px 1px rgba(0, 0, 0, 0.15);\n",
              "      filter: drop-shadow(0px 1px 2px rgba(0, 0, 0, 0.3));\n",
              "      fill: #FFFFFF;\n",
              "    }\n",
              "  </style>\n",
              "\n",
              "      <script>\n",
              "        const buttonEl =\n",
              "          document.querySelector('#df-cacd9ea5-9d79-4346-9bcd-5717f9952f4b button.colab-df-convert');\n",
              "        buttonEl.style.display =\n",
              "          google.colab.kernel.accessAllowed ? 'block' : 'none';\n",
              "\n",
              "        async function convertToInteractive(key) {\n",
              "          const element = document.querySelector('#df-cacd9ea5-9d79-4346-9bcd-5717f9952f4b');\n",
              "          const dataTable =\n",
              "            await google.colab.kernel.invokeFunction('convertToInteractive',\n",
              "                                                     [key], {});\n",
              "          if (!dataTable) return;\n",
              "\n",
              "          const docLinkHtml = 'Like what you see? Visit the ' +\n",
              "            '<a target=\"_blank\" href=https://colab.research.google.com/notebooks/data_table.ipynb>data table notebook</a>'\n",
              "            + ' to learn more about interactive tables.';\n",
              "          element.innerHTML = '';\n",
              "          dataTable['output_type'] = 'display_data';\n",
              "          await google.colab.output.renderOutput(dataTable, element);\n",
              "          const docLink = document.createElement('div');\n",
              "          docLink.innerHTML = docLinkHtml;\n",
              "          element.appendChild(docLink);\n",
              "        }\n",
              "      </script>\n",
              "    </div>\n",
              "  </div>\n",
              "  "
            ]
          },
          "metadata": {},
          "execution_count": 4
        }
      ]
    },
    {
      "cell_type": "markdown",
      "source": [
        "## **1. Obtenga un diagrama de dispersión para estos datos.**"
      ],
      "metadata": {
        "id": "yUYdu1_BvTo0"
      }
    },
    {
      "cell_type": "code",
      "source": [
        "sns.set_theme(style='darkgrid', palette='Spectral')\n",
        "sns.scatterplot(\n",
        "    data=df,\n",
        "    x='altura_cm',\n",
        "    y='peso_kg',\n",
        ")"
      ],
      "metadata": {
        "colab": {
          "base_uri": "https://localhost:8080/",
          "height": 0
        },
        "id": "y1b0pMu5vfOI",
        "outputId": "0e88b30c-f17d-45f6-a4d6-7b035d4e0030"
      },
      "execution_count": 5,
      "outputs": [
        {
          "output_type": "execute_result",
          "data": {
            "text/plain": [
              "<AxesSubplot:xlabel='altura_cm', ylabel='peso_kg'>"
            ]
          },
          "metadata": {},
          "execution_count": 5
        },
        {
          "output_type": "display_data",
          "data": {
            "text/plain": [
              "<Figure size 432x288 with 1 Axes>"
            ],
            "image/png": "[encoded data removed]"
          },
          "metadata": {}
        }
      ]
    },
    {
      "cell_type": "code",
      "source": [
        "# Otras gráficas.\n",
        "sns.pairplot(\n",
        "    data=df,\n",
        "    kind='scatter'\n",
        ")"
      ],
      "metadata": {
        "colab": {
          "base_uri": "https://localhost:8080/",
          "height": 0
        },
        "id": "8IX3_k2vpLRO",
        "outputId": "267150f9-9ce7-4e80-ab6f-cb4a643dc864"
      },
      "execution_count": 6,
      "outputs": [
        {
          "output_type": "execute_result",
          "data": {
            "text/plain": [
              "<seaborn.axisgrid.PairGrid at 0x7fe10db8e730>"
            ]
          },
          "metadata": {},
          "execution_count": 6
        },
        {
          "output_type": "display_data",
          "data": {
            "text/plain": [
              "<Figure size 360x360 with 6 Axes>"
            ],
            "image/png": "[encoded data removed]"
          },
          "metadata": {}
        }
      ]
    },
    {
      "cell_type": "code",
      "source": [
        "# Con Seaborn podemos ver la regresión lineal expresada en un scatterplot.\n",
        "sns.lmplot(\n",
        "    data=df,\n",
        "    x='altura_cm',\n",
        "    y='peso_kg'\n",
        ")"
      ],
      "metadata": {
        "colab": {
          "base_uri": "https://localhost:8080/",
          "height": 0
        },
        "id": "tBt1X8PwuKnK",
        "outputId": "1b3c11e0-fa40-4a27-bed5-0f78d906dae0"
      },
      "execution_count": 7,
      "outputs": [
        {
          "output_type": "execute_result",
          "data": {
            "text/plain": [
              "<seaborn.axisgrid.FacetGrid at 0x7fe10b0f24c0>"
            ]
          },
          "metadata": {},
          "execution_count": 7
        },
        {
          "output_type": "display_data",
          "data": {
            "text/plain": [
              "<Figure size 360x360 with 1 Axes>"
            ],
            "image/png": "[encoded data removed]"
          },
          "metadata": {}
        }
      ]
    },
    {
      "cell_type": "code",
      "source": [
        "sns.regplot(\n",
        "    data=df,\n",
        "    x='altura_cm',\n",
        "    y='peso_kg'\n",
        ")"
      ],
      "metadata": {
        "colab": {
          "base_uri": "https://localhost:8080/",
          "height": 0
        },
        "id": "KolRsmjHvUyr",
        "outputId": "76bdf08b-5d24-4df9-f450-f305d4103b1f"
      },
      "execution_count": 8,
      "outputs": [
        {
          "output_type": "execute_result",
          "data": {
            "text/plain": [
              "<AxesSubplot:xlabel='altura_cm', ylabel='peso_kg'>"
            ]
          },
          "metadata": {},
          "execution_count": 8
        },
        {
          "output_type": "display_data",
          "data": {
            "text/plain": [
              "<Figure size 432x288 with 1 Axes>"
            ],
            "image/png": "[encoded data removed]"
          },
          "metadata": {}
        }
      ]
    },
    {
      "cell_type": "markdown",
      "source": [
        "## **2. Determine si existe relación lineal entre los datos.**"
      ],
      "metadata": {
        "id": "dthfwmWOvZrF"
      }
    },
    {
      "cell_type": "markdown",
      "source": [
        "Para poder realizar este ejercicio usaremos el Coeficiente de correlación lineal de Pearson.\n",
        "\n",
        "![coef-pearson-rl](https://economipedia.com/wp-content/uploads/2015/12/formula-correlaci%C3%B3n.png)\n",
        "\n",
        "La explicación es: \n",
        "- La correlación de person es igual a la covarianza, entre la desviación estándar de x y de y.\n",
        "\n",
        "O visto desde otro punto:\n",
        "\n",
        "![coef-pearson](https://encrypted-tbn0.gstatic.com/images?q=tbn:ANd9GcQUJHY8HSV0MEjZY79zrFFjNynHsJJ1x8dfHzq8UHcqcPUaNHrCBZ40eCC4KQ70OqwM1Q&usqp=CAU)\n",
        "\n",
        "De donde salen estos valores:\n",
        "\n",
        "![covarianza](https://static.platzi.com/media/user_upload/explicacion-405054a3-089e-4410-b4f6-a1a6160be999.jpg)\n",
        "\n",
        "\n",
        "**Fórmula de la Covarianza:**\n",
        "\n",
        "![cov](https://definicionesdepalabras.com/wp-content/uploads/2020/11/download.png)\n",
        "\n",
        "\n",
        "**Fórmula de la Desviación estándar, o std:**\n",
        "\n",
        "![np-std](https://economipedia.com/wp-content/uploads/Formula-Desviacion-Tipica.jpg)"
      ],
      "metadata": {
        "id": "Ini2EgE9vw1b"
      }
    },
    {
      "cell_type": "markdown",
      "source": [
        "### **Obtener el Coeficiente de Pearson:**"
      ],
      "metadata": {
        "id": "UKQPHHkU0Bi8"
      }
    },
    {
      "cell_type": "code",
      "source": [
        "# Nuestro conjunto de datos: \n",
        "df"
      ],
      "metadata": {
        "colab": {
          "base_uri": "https://localhost:8080/",
          "height": 0
        },
        "id": "_BJtEN1b4qJs",
        "outputId": "618519f0-8930-4d9d-e30f-0bcc1cd6c59b"
      },
      "execution_count": 9,
      "outputs": [
        {
          "output_type": "execute_result",
          "data": {
            "text/plain": [
              "    altura_cm  peso_kg\n",
              "0         178     69.8\n",
              "1         160     67.5\n",
              "2         183     81.0\n",
              "3         152     60.8\n",
              "4         168     70.2\n",
              "5         178     75.6\n",
              "6         188     80.1\n",
              "7         165     72.0\n",
              "8         157     59.4\n",
              "9         170     65.3\n",
              "10        165     62.6\n",
              "11        173     68.4"
            ],
            "text/html": [
              "\n",
              "  <div id=\"df-015e0bbc-3096-4132-9a4c-de9c1c8c816b\">\n",
              "    <div class=\"colab-df-container\">\n",
              "      <div>\n",
              "<style scoped>\n",
              "    .dataframe tbody tr th:only-of-type {\n",
              "        vertical-align: middle;\n",
              "    }\n",
              "\n",
              "    .dataframe tbody tr th {\n",
              "        vertical-align: top;\n",
              "    }\n",
              "\n",
              "    .dataframe thead th {\n",
              "        text-align: right;\n",
              "    }\n",
              "</style>\n",
              "<table border=\"1\" class=\"dataframe\">\n",
              "  <thead>\n",
              "    <tr style=\"text-align: right;\">\n",
              "      <th></th>\n",
              "      <th>altura_cm</th>\n",
              "      <th>peso_kg</th>\n",
              "    </tr>\n",
              "  </thead>\n",
              "  <tbody>\n",
              "    <tr>\n",
              "      <th>0</th>\n",
              "      <td>178</td>\n",
              "      <td>69.8</td>\n",
              "    </tr>\n",
              "    <tr>\n",
              "      <th>1</th>\n",
              "      <td>160</td>\n",
              "      <td>67.5</td>\n",
              "    </tr>\n",
              "    <tr>\n",
              "      <th>2</th>\n",
              "      <td>183</td>\n",
              "      <td>81.0</td>\n",
              "    </tr>\n",
              "    <tr>\n",
              "      <th>3</th>\n",
              "      <td>152</td>\n",
              "      <td>60.8</td>\n",
              "    </tr>\n",
              "    <tr>\n",
              "      <th>4</th>\n",
              "      <td>168</td>\n",
              "      <td>70.2</td>\n",
              "    </tr>\n",
              "    <tr>\n",
              "      <th>5</th>\n",
              "      <td>178</td>\n",
              "      <td>75.6</td>\n",
              "    </tr>\n",
              "    <tr>\n",
              "      <th>6</th>\n",
              "      <td>188</td>\n",
              "      <td>80.1</td>\n",
              "    </tr>\n",
              "    <tr>\n",
              "      <th>7</th>\n",
              "      <td>165</td>\n",
              "      <td>72.0</td>\n",
              "    </tr>\n",
              "    <tr>\n",
              "      <th>8</th>\n",
              "      <td>157</td>\n",
              "      <td>59.4</td>\n",
              "    </tr>\n",
              "    <tr>\n",
              "      <th>9</th>\n",
              "      <td>170</td>\n",
              "      <td>65.3</td>\n",
              "    </tr>\n",
              "    <tr>\n",
              "      <th>10</th>\n",
              "      <td>165</td>\n",
              "      <td>62.6</td>\n",
              "    </tr>\n",
              "    <tr>\n",
              "      <th>11</th>\n",
              "      <td>173</td>\n",
              "      <td>68.4</td>\n",
              "    </tr>\n",
              "  </tbody>\n",
              "</table>\n",
              "</div>\n",
              "      <button class=\"colab-df-convert\" onclick=\"convertToInteractive('df-015e0bbc-3096-4132-9a4c-de9c1c8c816b')\"\n",
              "              title=\"Convert this dataframe to an interactive table.\"\n",
              "              style=\"display:none;\">\n",
              "        \n",
              "  <svg xmlns=\"http://www.w3.org/2000/svg\" height=\"24px\"viewBox=\"0 0 24 24\"\n",
              "       width=\"24px\">\n",
              "    <path d=\"M0 0h24v24H0V0z\" fill=\"none\"/>\n",
              "    <path d=\"M18.56 5.44l.94 2.06.94-2.06 2.06-.94-2.06-.94-.94-2.06-.94 2.06-2.06.94zm-11 1L8.5 8.5l.94-2.06 2.06-.94-2.06-.94L8.5 2.5l-.94 2.06-2.06.94zm10 10l.94 2.06.94-2.06 2.06-.94-2.06-.94-.94-2.06-.94 2.06-2.06.94z\"/><path d=\"M17.41 7.96l-1.37-1.37c-.4-.4-.92-.59-1.43-.59-.52 0-1.04.2-1.43.59L10.3 9.45l-7.72 7.72c-.78.78-.78 2.05 0 2.83L4 21.41c.39.39.9.59 1.41.59.51 0 1.02-.2 1.41-.59l7.78-7.78 2.81-2.81c.8-.78.8-2.07 0-2.86zM5.41 20L4 18.59l7.72-7.72 1.47 1.35L5.41 20z\"/>\n",
              "  </svg>\n",
              "      </button>\n",
              "      \n",
              "  <style>\n",
              "    .colab-df-container {\n",
              "      display:flex;\n",
              "      flex-wrap:wrap;\n",
              "      gap: 12px;\n",
              "    }\n",
              "\n",
              "    .colab-df-convert {\n",
              "      background-color: #E8F0FE;\n",
              "      border: none;\n",
              "      border-radius: 50%;\n",
              "      cursor: pointer;\n",
              "      display: none;\n",
              "      fill: #1967D2;\n",
              "      height: 32px;\n",
              "      padding: 0 0 0 0;\n",
              "      width: 32px;\n",
              "    }\n",
              "\n",
              "    .colab-df-convert:hover {\n",
              "      background-color: #E2EBFA;\n",
              "      box-shadow: 0px 1px 2px rgba(60, 64, 67, 0.3), 0px 1px 3px 1px rgba(60, 64, 67, 0.15);\n",
              "      fill: #174EA6;\n",
              "    }\n",
              "\n",
              "    [theme=dark] .colab-df-convert {\n",
              "      background-color: #3B4455;\n",
              "      fill: #D2E3FC;\n",
              "    }\n",
              "\n",
              "    [theme=dark] .colab-df-convert:hover {\n",
              "      background-color: #434B5C;\n",
              "      box-shadow: 0px 1px 3px 1px rgba(0, 0, 0, 0.15);\n",
              "      filter: drop-shadow(0px 1px 2px rgba(0, 0, 0, 0.3));\n",
              "      fill: #FFFFFF;\n",
              "    }\n",
              "  </style>\n",
              "\n",
              "      <script>\n",
              "        const buttonEl =\n",
              "          document.querySelector('#df-015e0bbc-3096-4132-9a4c-de9c1c8c816b button.colab-df-convert');\n",
              "        buttonEl.style.display =\n",
              "          google.colab.kernel.accessAllowed ? 'block' : 'none';\n",
              "\n",
              "        async function convertToInteractive(key) {\n",
              "          const element = document.querySelector('#df-015e0bbc-3096-4132-9a4c-de9c1c8c816b');\n",
              "          const dataTable =\n",
              "            await google.colab.kernel.invokeFunction('convertToInteractive',\n",
              "                                                     [key], {});\n",
              "          if (!dataTable) return;\n",
              "\n",
              "          const docLinkHtml = 'Like what you see? Visit the ' +\n",
              "            '<a target=\"_blank\" href=https://colab.research.google.com/notebooks/data_table.ipynb>data table notebook</a>'\n",
              "            + ' to learn more about interactive tables.';\n",
              "          element.innerHTML = '';\n",
              "          dataTable['output_type'] = 'display_data';\n",
              "          await google.colab.output.renderOutput(dataTable, element);\n",
              "          const docLink = document.createElement('div');\n",
              "          docLink.innerHTML = docLinkHtml;\n",
              "          element.appendChild(docLink);\n",
              "        }\n",
              "      </script>\n",
              "    </div>\n",
              "  </div>\n",
              "  "
            ]
          },
          "metadata": {},
          "execution_count": 9
        }
      ]
    },
    {
      "cell_type": "markdown",
      "source": [
        "Para determinar si existe la relación lineal primero debemos de tener la fórmula de pearson.\n",
        "\n",
        "Podemos hacer esto de varias formas.\n",
        "Yo diría de la forma rápida, detallada, y minusiosa."
      ],
      "metadata": {
        "id": "D4jyYFUr4wmi"
      }
    },
    {
      "cell_type": "code",
      "source": [
        "# Vamos a sumar y a contar nuestros valores\n",
        "suma = df.sum()\n",
        "conteo = df.count()\n",
        "#Variable de la media (x,y) \n",
        "media = suma/conteo\n",
        "media\n",
        "# Aquí estamos obteniendo la media."
      ],
      "metadata": {
        "colab": {
          "base_uri": "https://localhost:8080/"
        },
        "id": "lwtdUQqx6BLP",
        "outputId": "4fdfedca-4675-489d-c349-877e0c907360"
      },
      "execution_count": 10,
      "outputs": [
        {
          "output_type": "execute_result",
          "data": {
            "text/plain": [
              "altura_cm    169.750000\n",
              "peso_kg       69.391667\n",
              "dtype: float64"
            ]
          },
          "metadata": {},
          "execution_count": 10
        }
      ]
    },
    {
      "cell_type": "code",
      "source": [
        "df.mean()\n",
        "# Y una manera más práctica y rápida es llamando una función de numpy"
      ],
      "metadata": {
        "colab": {
          "base_uri": "https://localhost:8080/"
        },
        "id": "NWO1iOBU84Xs",
        "outputId": "e73c9a8f-7579-4d32-9990-43ba150e986a"
      },
      "execution_count": 11,
      "outputs": [
        {
          "output_type": "execute_result",
          "data": {
            "text/plain": [
              "altura_cm    169.750000\n",
              "peso_kg       69.391667\n",
              "dtype: float64"
            ]
          },
          "metadata": {},
          "execution_count": 11
        }
      ]
    },
    {
      "cell_type": "code",
      "source": [
        "# Restamos a nuetro valor su media.\n",
        "media_var = df - df.mean()\n",
        "media_var.round(2)\n"
      ],
      "metadata": {
        "colab": {
          "base_uri": "https://localhost:8080/",
          "height": 0
        },
        "id": "IJQUPg8D-D0t",
        "outputId": "bf32defb-ab44-4848-f976-cafa22616ea9"
      },
      "execution_count": 12,
      "outputs": [
        {
          "output_type": "execute_result",
          "data": {
            "text/plain": [
              "    altura_cm  peso_kg\n",
              "0        8.25     0.41\n",
              "1       -9.75    -1.89\n",
              "2       13.25    11.61\n",
              "3      -17.75    -8.59\n",
              "4       -1.75     0.81\n",
              "5        8.25     6.21\n",
              "6       18.25    10.71\n",
              "7       -4.75     2.61\n",
              "8      -12.75    -9.99\n",
              "9        0.25    -4.09\n",
              "10      -4.75    -6.79\n",
              "11       3.25    -0.99"
            ],
            "text/html": [
              "\n",
              "  <div id=\"df-043640a6-1ff1-43b9-af36-639f2d4da277\">\n",
              "    <div class=\"colab-df-container\">\n",
              "      <div>\n",
              "<style scoped>\n",
              "    .dataframe tbody tr th:only-of-type {\n",
              "        vertical-align: middle;\n",
              "    }\n",
              "\n",
              "    .dataframe tbody tr th {\n",
              "        vertical-align: top;\n",
              "    }\n",
              "\n",
              "    .dataframe thead th {\n",
              "        text-align: right;\n",
              "    }\n",
              "</style>\n",
              "<table border=\"1\" class=\"dataframe\">\n",
              "  <thead>\n",
              "    <tr style=\"text-align: right;\">\n",
              "      <th></th>\n",
              "      <th>altura_cm</th>\n",
              "      <th>peso_kg</th>\n",
              "    </tr>\n",
              "  </thead>\n",
              "  <tbody>\n",
              "    <tr>\n",
              "      <th>0</th>\n",
              "      <td>8.25</td>\n",
              "      <td>0.41</td>\n",
              "    </tr>\n",
              "    <tr>\n",
              "      <th>1</th>\n",
              "      <td>-9.75</td>\n",
              "      <td>-1.89</td>\n",
              "    </tr>\n",
              "    <tr>\n",
              "      <th>2</th>\n",
              "      <td>13.25</td>\n",
              "      <td>11.61</td>\n",
              "    </tr>\n",
              "    <tr>\n",
              "      <th>3</th>\n",
              "      <td>-17.75</td>\n",
              "      <td>-8.59</td>\n",
              "    </tr>\n",
              "    <tr>\n",
              "      <th>4</th>\n",
              "      <td>-1.75</td>\n",
              "      <td>0.81</td>\n",
              "    </tr>\n",
              "    <tr>\n",
              "      <th>5</th>\n",
              "      <td>8.25</td>\n",
              "      <td>6.21</td>\n",
              "    </tr>\n",
              "    <tr>\n",
              "      <th>6</th>\n",
              "      <td>18.25</td>\n",
              "      <td>10.71</td>\n",
              "    </tr>\n",
              "    <tr>\n",
              "      <th>7</th>\n",
              "      <td>-4.75</td>\n",
              "      <td>2.61</td>\n",
              "    </tr>\n",
              "    <tr>\n",
              "      <th>8</th>\n",
              "      <td>-12.75</td>\n",
              "      <td>-9.99</td>\n",
              "    </tr>\n",
              "    <tr>\n",
              "      <th>9</th>\n",
              "      <td>0.25</td>\n",
              "      <td>-4.09</td>\n",
              "    </tr>\n",
              "    <tr>\n",
              "      <th>10</th>\n",
              "      <td>-4.75</td>\n",
              "      <td>-6.79</td>\n",
              "    </tr>\n",
              "    <tr>\n",
              "      <th>11</th>\n",
              "      <td>3.25</td>\n",
              "      <td>-0.99</td>\n",
              "    </tr>\n",
              "  </tbody>\n",
              "</table>\n",
              "</div>\n",
              "      <button class=\"colab-df-convert\" onclick=\"convertToInteractive('df-043640a6-1ff1-43b9-af36-639f2d4da277')\"\n",
              "              title=\"Convert this dataframe to an interactive table.\"\n",
              "              style=\"display:none;\">\n",
              "        \n",
              "  <svg xmlns=\"http://www.w3.org/2000/svg\" height=\"24px\"viewBox=\"0 0 24 24\"\n",
              "       width=\"24px\">\n",
              "    <path d=\"M0 0h24v24H0V0z\" fill=\"none\"/>\n",
              "    <path d=\"M18.56 5.44l.94 2.06.94-2.06 2.06-.94-2.06-.94-.94-2.06-.94 2.06-2.06.94zm-11 1L8.5 8.5l.94-2.06 2.06-.94-2.06-.94L8.5 2.5l-.94 2.06-2.06.94zm10 10l.94 2.06.94-2.06 2.06-.94-2.06-.94-.94-2.06-.94 2.06-2.06.94z\"/><path d=\"M17.41 7.96l-1.37-1.37c-.4-.4-.92-.59-1.43-.59-.52 0-1.04.2-1.43.59L10.3 9.45l-7.72 7.72c-.78.78-.78 2.05 0 2.83L4 21.41c.39.39.9.59 1.41.59.51 0 1.02-.2 1.41-.59l7.78-7.78 2.81-2.81c.8-.78.8-2.07 0-2.86zM5.41 20L4 18.59l7.72-7.72 1.47 1.35L5.41 20z\"/>\n",
              "  </svg>\n",
              "      </button>\n",
              "      \n",
              "  <style>\n",
              "    .colab-df-container {\n",
              "      display:flex;\n",
              "      flex-wrap:wrap;\n",
              "      gap: 12px;\n",
              "    }\n",
              "\n",
              "    .colab-df-convert {\n",
              "      background-color: #E8F0FE;\n",
              "      border: none;\n",
              "      border-radius: 50%;\n",
              "      cursor: pointer;\n",
              "      display: none;\n",
              "      fill: #1967D2;\n",
              "      height: 32px;\n",
              "      padding: 0 0 0 0;\n",
              "      width: 32px;\n",
              "    }\n",
              "\n",
              "    .colab-df-convert:hover {\n",
              "      background-color: #E2EBFA;\n",
              "      box-shadow: 0px 1px 2px rgba(60, 64, 67, 0.3), 0px 1px 3px 1px rgba(60, 64, 67, 0.15);\n",
              "      fill: #174EA6;\n",
              "    }\n",
              "\n",
              "    [theme=dark] .colab-df-convert {\n",
              "      background-color: #3B4455;\n",
              "      fill: #D2E3FC;\n",
              "    }\n",
              "\n",
              "    [theme=dark] .colab-df-convert:hover {\n",
              "      background-color: #434B5C;\n",
              "      box-shadow: 0px 1px 3px 1px rgba(0, 0, 0, 0.15);\n",
              "      filter: drop-shadow(0px 1px 2px rgba(0, 0, 0, 0.3));\n",
              "      fill: #FFFFFF;\n",
              "    }\n",
              "  </style>\n",
              "\n",
              "      <script>\n",
              "        const buttonEl =\n",
              "          document.querySelector('#df-043640a6-1ff1-43b9-af36-639f2d4da277 button.colab-df-convert');\n",
              "        buttonEl.style.display =\n",
              "          google.colab.kernel.accessAllowed ? 'block' : 'none';\n",
              "\n",
              "        async function convertToInteractive(key) {\n",
              "          const element = document.querySelector('#df-043640a6-1ff1-43b9-af36-639f2d4da277');\n",
              "          const dataTable =\n",
              "            await google.colab.kernel.invokeFunction('convertToInteractive',\n",
              "                                                     [key], {});\n",
              "          if (!dataTable) return;\n",
              "\n",
              "          const docLinkHtml = 'Like what you see? Visit the ' +\n",
              "            '<a target=\"_blank\" href=https://colab.research.google.com/notebooks/data_table.ipynb>data table notebook</a>'\n",
              "            + ' to learn more about interactive tables.';\n",
              "          element.innerHTML = '';\n",
              "          dataTable['output_type'] = 'display_data';\n",
              "          await google.colab.output.renderOutput(dataTable, element);\n",
              "          const docLink = document.createElement('div');\n",
              "          docLink.innerHTML = docLinkHtml;\n",
              "          element.appendChild(docLink);\n",
              "        }\n",
              "      </script>\n",
              "    </div>\n",
              "  </div>\n",
              "  "
            ]
          },
          "metadata": {},
          "execution_count": 12
        }
      ]
    },
    {
      "cell_type": "code",
      "source": [
        "# Elevamos al cuadrado\n",
        "media_cuadrado = media_var ** 2\n",
        "media_cuadrado.round(2)"
      ],
      "metadata": {
        "colab": {
          "base_uri": "https://localhost:8080/",
          "height": 0
        },
        "id": "f1MXy3Xq6QEF",
        "outputId": "dc52cfdf-8557-49a4-fd61-7cac317bcb17"
      },
      "execution_count": 13,
      "outputs": [
        {
          "output_type": "execute_result",
          "data": {
            "text/plain": [
              "    altura_cm  peso_kg\n",
              "0       68.06     0.17\n",
              "1       95.06     3.58\n",
              "2      175.56   134.75\n",
              "3      315.06    73.82\n",
              "4        3.06     0.65\n",
              "5       68.06    38.54\n",
              "6      333.06   114.67\n",
              "7       22.56     6.80\n",
              "8      162.56    99.83\n",
              "9        0.06    16.74\n",
              "10      22.56    46.13\n",
              "11      10.56     0.98"
            ],
            "text/html": [
              "\n",
              "  <div id=\"df-83064621-4e2d-4719-8ce1-2fba061b6f7c\">\n",
              "    <div class=\"colab-df-container\">\n",
              "      <div>\n",
              "<style scoped>\n",
              "    .dataframe tbody tr th:only-of-type {\n",
              "        vertical-align: middle;\n",
              "    }\n",
              "\n",
              "    .dataframe tbody tr th {\n",
              "        vertical-align: top;\n",
              "    }\n",
              "\n",
              "    .dataframe thead th {\n",
              "        text-align: right;\n",
              "    }\n",
              "</style>\n",
              "<table border=\"1\" class=\"dataframe\">\n",
              "  <thead>\n",
              "    <tr style=\"text-align: right;\">\n",
              "      <th></th>\n",
              "      <th>altura_cm</th>\n",
              "      <th>peso_kg</th>\n",
              "    </tr>\n",
              "  </thead>\n",
              "  <tbody>\n",
              "    <tr>\n",
              "      <th>0</th>\n",
              "      <td>68.06</td>\n",
              "      <td>0.17</td>\n",
              "    </tr>\n",
              "    <tr>\n",
              "      <th>1</th>\n",
              "      <td>95.06</td>\n",
              "      <td>3.58</td>\n",
              "    </tr>\n",
              "    <tr>\n",
              "      <th>2</th>\n",
              "      <td>175.56</td>\n",
              "      <td>134.75</td>\n",
              "    </tr>\n",
              "    <tr>\n",
              "      <th>3</th>\n",
              "      <td>315.06</td>\n",
              "      <td>73.82</td>\n",
              "    </tr>\n",
              "    <tr>\n",
              "      <th>4</th>\n",
              "      <td>3.06</td>\n",
              "      <td>0.65</td>\n",
              "    </tr>\n",
              "    <tr>\n",
              "      <th>5</th>\n",
              "      <td>68.06</td>\n",
              "      <td>38.54</td>\n",
              "    </tr>\n",
              "    <tr>\n",
              "      <th>6</th>\n",
              "      <td>333.06</td>\n",
              "      <td>114.67</td>\n",
              "    </tr>\n",
              "    <tr>\n",
              "      <th>7</th>\n",
              "      <td>22.56</td>\n",
              "      <td>6.80</td>\n",
              "    </tr>\n",
              "    <tr>\n",
              "      <th>8</th>\n",
              "      <td>162.56</td>\n",
              "      <td>99.83</td>\n",
              "    </tr>\n",
              "    <tr>\n",
              "      <th>9</th>\n",
              "      <td>0.06</td>\n",
              "      <td>16.74</td>\n",
              "    </tr>\n",
              "    <tr>\n",
              "      <th>10</th>\n",
              "      <td>22.56</td>\n",
              "      <td>46.13</td>\n",
              "    </tr>\n",
              "    <tr>\n",
              "      <th>11</th>\n",
              "      <td>10.56</td>\n",
              "      <td>0.98</td>\n",
              "    </tr>\n",
              "  </tbody>\n",
              "</table>\n",
              "</div>\n",
              "      <button class=\"colab-df-convert\" onclick=\"convertToInteractive('df-83064621-4e2d-4719-8ce1-2fba061b6f7c')\"\n",
              "              title=\"Convert this dataframe to an interactive table.\"\n",
              "              style=\"display:none;\">\n",
              "        \n",
              "  <svg xmlns=\"http://www.w3.org/2000/svg\" height=\"24px\"viewBox=\"0 0 24 24\"\n",
              "       width=\"24px\">\n",
              "    <path d=\"M0 0h24v24H0V0z\" fill=\"none\"/>\n",
              "    <path d=\"M18.56 5.44l.94 2.06.94-2.06 2.06-.94-2.06-.94-.94-2.06-.94 2.06-2.06.94zm-11 1L8.5 8.5l.94-2.06 2.06-.94-2.06-.94L8.5 2.5l-.94 2.06-2.06.94zm10 10l.94 2.06.94-2.06 2.06-.94-2.06-.94-.94-2.06-.94 2.06-2.06.94z\"/><path d=\"M17.41 7.96l-1.37-1.37c-.4-.4-.92-.59-1.43-.59-.52 0-1.04.2-1.43.59L10.3 9.45l-7.72 7.72c-.78.78-.78 2.05 0 2.83L4 21.41c.39.39.9.59 1.41.59.51 0 1.02-.2 1.41-.59l7.78-7.78 2.81-2.81c.8-.78.8-2.07 0-2.86zM5.41 20L4 18.59l7.72-7.72 1.47 1.35L5.41 20z\"/>\n",
              "  </svg>\n",
              "      </button>\n",
              "      \n",
              "  <style>\n",
              "    .colab-df-container {\n",
              "      display:flex;\n",
              "      flex-wrap:wrap;\n",
              "      gap: 12px;\n",
              "    }\n",
              "\n",
              "    .colab-df-convert {\n",
              "      background-color: #E8F0FE;\n",
              "      border: none;\n",
              "      border-radius: 50%;\n",
              "      cursor: pointer;\n",
              "      display: none;\n",
              "      fill: #1967D2;\n",
              "      height: 32px;\n",
              "      padding: 0 0 0 0;\n",
              "      width: 32px;\n",
              "    }\n",
              "\n",
              "    .colab-df-convert:hover {\n",
              "      background-color: #E2EBFA;\n",
              "      box-shadow: 0px 1px 2px rgba(60, 64, 67, 0.3), 0px 1px 3px 1px rgba(60, 64, 67, 0.15);\n",
              "      fill: #174EA6;\n",
              "    }\n",
              "\n",
              "    [theme=dark] .colab-df-convert {\n",
              "      background-color: #3B4455;\n",
              "      fill: #D2E3FC;\n",
              "    }\n",
              "\n",
              "    [theme=dark] .colab-df-convert:hover {\n",
              "      background-color: #434B5C;\n",
              "      box-shadow: 0px 1px 3px 1px rgba(0, 0, 0, 0.15);\n",
              "      filter: drop-shadow(0px 1px 2px rgba(0, 0, 0, 0.3));\n",
              "      fill: #FFFFFF;\n",
              "    }\n",
              "  </style>\n",
              "\n",
              "      <script>\n",
              "        const buttonEl =\n",
              "          document.querySelector('#df-83064621-4e2d-4719-8ce1-2fba061b6f7c button.colab-df-convert');\n",
              "        buttonEl.style.display =\n",
              "          google.colab.kernel.accessAllowed ? 'block' : 'none';\n",
              "\n",
              "        async function convertToInteractive(key) {\n",
              "          const element = document.querySelector('#df-83064621-4e2d-4719-8ce1-2fba061b6f7c');\n",
              "          const dataTable =\n",
              "            await google.colab.kernel.invokeFunction('convertToInteractive',\n",
              "                                                     [key], {});\n",
              "          if (!dataTable) return;\n",
              "\n",
              "          const docLinkHtml = 'Like what you see? Visit the ' +\n",
              "            '<a target=\"_blank\" href=https://colab.research.google.com/notebooks/data_table.ipynb>data table notebook</a>'\n",
              "            + ' to learn more about interactive tables.';\n",
              "          element.innerHTML = '';\n",
              "          dataTable['output_type'] = 'display_data';\n",
              "          await google.colab.output.renderOutput(dataTable, element);\n",
              "          const docLink = document.createElement('div');\n",
              "          docLink.innerHTML = docLinkHtml;\n",
              "          element.appendChild(docLink);\n",
              "        }\n",
              "      </script>\n",
              "    </div>\n",
              "  </div>\n",
              "  "
            ]
          },
          "metadata": {},
          "execution_count": 13
        }
      ]
    },
    {
      "cell_type": "code",
      "source": [
        "# El valor de un dato menos su media de x, por los datos y\n",
        "med_x_y = media_var['altura_cm'] * media_var['peso_kg']\n",
        "med_x_y.round(2)"
      ],
      "metadata": {
        "colab": {
          "base_uri": "https://localhost:8080/"
        },
        "id": "mdTcTx0MP887",
        "outputId": "442bdeb3-01d5-4d36-a27e-5803e8d2dd62"
      },
      "execution_count": 14,
      "outputs": [
        {
          "output_type": "execute_result",
          "data": {
            "text/plain": [
              "0       3.37\n",
              "1      18.44\n",
              "2     153.81\n",
              "3     152.50\n",
              "4      -1.41\n",
              "5      51.22\n",
              "6     195.43\n",
              "7     -12.39\n",
              "8     127.39\n",
              "9      -1.02\n",
              "10     32.26\n",
              "11     -3.22\n",
              "dtype: float64"
            ]
          },
          "metadata": {},
          "execution_count": 14
        }
      ]
    },
    {
      "cell_type": "code",
      "source": [
        "# Sumamos todos sus valores de nuestra variable.\n",
        "suma_med_x_y=med_x_y.sum()\n",
        "suma_med_x_y.round(2)"
      ],
      "metadata": {
        "colab": {
          "base_uri": "https://localhost:8080/"
        },
        "id": "RDE7EF9VvSr8",
        "outputId": "8081c433-74f7-49db-8113-65f088332b82"
      },
      "execution_count": 15,
      "outputs": [
        {
          "output_type": "execute_result",
          "data": {
            "text/plain": [
              "716.37"
            ]
          },
          "metadata": {},
          "execution_count": 15
        }
      ]
    },
    {
      "cell_type": "code",
      "source": [
        "# Sacamos todo esos datos para poder obtener la covarianza.\n",
        "# Que es la suma de todos los datos \n",
        "# (x y la media de x) por (y y la media de y) entre en numero de datos\n",
        "\n",
        "covar=suma_med_x_y/12\n",
        "covar"
      ],
      "metadata": {
        "colab": {
          "base_uri": "https://localhost:8080/"
        },
        "id": "PmRa3eH4SNS0",
        "outputId": "a2582f81-0561-4466-ecfc-7a1b8ae8adbb"
      },
      "execution_count": 16,
      "outputs": [
        {
          "output_type": "execute_result",
          "data": {
            "text/plain": [
              "59.69791666666665"
            ]
          },
          "metadata": {},
          "execution_count": 16
        }
      ]
    },
    {
      "cell_type": "code",
      "source": [
        "# Resumen\n",
        "media=df.mean()\n",
        "med_rest = df - media\n",
        "media_x_y = med_rest['altura_cm']* med_rest['peso_kg']\n",
        "total=media_x_y.sum()\n",
        "cov=total/12\n",
        "cov.round(2)"
      ],
      "metadata": {
        "colab": {
          "base_uri": "https://localhost:8080/"
        },
        "id": "8EvgGRcRwhNc",
        "outputId": "2d7e868a-2d7d-4ee5-d084-7aeb5105970c"
      },
      "execution_count": 17,
      "outputs": [
        {
          "output_type": "execute_result",
          "data": {
            "text/plain": [
              "59.7"
            ]
          },
          "metadata": {},
          "execution_count": 17
        }
      ]
    },
    {
      "cell_type": "code",
      "source": [
        "# También podemos hacer nuestra covarianza de esta manera, cambian los datos, puesto que los toma de una manera más precisa.\n",
        "df.cov(12).round(2)"
      ],
      "metadata": {
        "colab": {
          "base_uri": "https://localhost:8080/",
          "height": 0
        },
        "id": "McsIx4ZfBSWT",
        "outputId": "a37c7a0f-be62-4e7e-eea6-1cfa4ff9c10b"
      },
      "execution_count": 18,
      "outputs": [
        {
          "output_type": "execute_result",
          "data": {
            "text/plain": [
              "           altura_cm  peso_kg\n",
              "altura_cm     116.02    65.12\n",
              "peso_kg        65.12    48.79"
            ],
            "text/html": [
              "\n",
              "  <div id=\"df-73230d43-1608-40e5-8912-ef9fb0d5c3bc\">\n",
              "    <div class=\"colab-df-container\">\n",
              "      <div>\n",
              "<style scoped>\n",
              "    .dataframe tbody tr th:only-of-type {\n",
              "        vertical-align: middle;\n",
              "    }\n",
              "\n",
              "    .dataframe tbody tr th {\n",
              "        vertical-align: top;\n",
              "    }\n",
              "\n",
              "    .dataframe thead th {\n",
              "        text-align: right;\n",
              "    }\n",
              "</style>\n",
              "<table border=\"1\" class=\"dataframe\">\n",
              "  <thead>\n",
              "    <tr style=\"text-align: right;\">\n",
              "      <th></th>\n",
              "      <th>altura_cm</th>\n",
              "      <th>peso_kg</th>\n",
              "    </tr>\n",
              "  </thead>\n",
              "  <tbody>\n",
              "    <tr>\n",
              "      <th>altura_cm</th>\n",
              "      <td>116.02</td>\n",
              "      <td>65.12</td>\n",
              "    </tr>\n",
              "    <tr>\n",
              "      <th>peso_kg</th>\n",
              "      <td>65.12</td>\n",
              "      <td>48.79</td>\n",
              "    </tr>\n",
              "  </tbody>\n",
              "</table>\n",
              "</div>\n",
              "      <button class=\"colab-df-convert\" onclick=\"convertToInteractive('df-73230d43-1608-40e5-8912-ef9fb0d5c3bc')\"\n",
              "              title=\"Convert this dataframe to an interactive table.\"\n",
              "              style=\"display:none;\">\n",
              "        \n",
              "  <svg xmlns=\"http://www.w3.org/2000/svg\" height=\"24px\"viewBox=\"0 0 24 24\"\n",
              "       width=\"24px\">\n",
              "    <path d=\"M0 0h24v24H0V0z\" fill=\"none\"/>\n",
              "    <path d=\"M18.56 5.44l.94 2.06.94-2.06 2.06-.94-2.06-.94-.94-2.06-.94 2.06-2.06.94zm-11 1L8.5 8.5l.94-2.06 2.06-.94-2.06-.94L8.5 2.5l-.94 2.06-2.06.94zm10 10l.94 2.06.94-2.06 2.06-.94-2.06-.94-.94-2.06-.94 2.06-2.06.94z\"/><path d=\"M17.41 7.96l-1.37-1.37c-.4-.4-.92-.59-1.43-.59-.52 0-1.04.2-1.43.59L10.3 9.45l-7.72 7.72c-.78.78-.78 2.05 0 2.83L4 21.41c.39.39.9.59 1.41.59.51 0 1.02-.2 1.41-.59l7.78-7.78 2.81-2.81c.8-.78.8-2.07 0-2.86zM5.41 20L4 18.59l7.72-7.72 1.47 1.35L5.41 20z\"/>\n",
              "  </svg>\n",
              "      </button>\n",
              "      \n",
              "  <style>\n",
              "    .colab-df-container {\n",
              "      display:flex;\n",
              "      flex-wrap:wrap;\n",
              "      gap: 12px;\n",
              "    }\n",
              "\n",
              "    .colab-df-convert {\n",
              "      background-color: #E8F0FE;\n",
              "      border: none;\n",
              "      border-radius: 50%;\n",
              "      cursor: pointer;\n",
              "      display: none;\n",
              "      fill: #1967D2;\n",
              "      height: 32px;\n",
              "      padding: 0 0 0 0;\n",
              "      width: 32px;\n",
              "    }\n",
              "\n",
              "    .colab-df-convert:hover {\n",
              "      background-color: #E2EBFA;\n",
              "      box-shadow: 0px 1px 2px rgba(60, 64, 67, 0.3), 0px 1px 3px 1px rgba(60, 64, 67, 0.15);\n",
              "      fill: #174EA6;\n",
              "    }\n",
              "\n",
              "    [theme=dark] .colab-df-convert {\n",
              "      background-color: #3B4455;\n",
              "      fill: #D2E3FC;\n",
              "    }\n",
              "\n",
              "    [theme=dark] .colab-df-convert:hover {\n",
              "      background-color: #434B5C;\n",
              "      box-shadow: 0px 1px 3px 1px rgba(0, 0, 0, 0.15);\n",
              "      filter: drop-shadow(0px 1px 2px rgba(0, 0, 0, 0.3));\n",
              "      fill: #FFFFFF;\n",
              "    }\n",
              "  </style>\n",
              "\n",
              "      <script>\n",
              "        const buttonEl =\n",
              "          document.querySelector('#df-73230d43-1608-40e5-8912-ef9fb0d5c3bc button.colab-df-convert');\n",
              "        buttonEl.style.display =\n",
              "          google.colab.kernel.accessAllowed ? 'block' : 'none';\n",
              "\n",
              "        async function convertToInteractive(key) {\n",
              "          const element = document.querySelector('#df-73230d43-1608-40e5-8912-ef9fb0d5c3bc');\n",
              "          const dataTable =\n",
              "            await google.colab.kernel.invokeFunction('convertToInteractive',\n",
              "                                                     [key], {});\n",
              "          if (!dataTable) return;\n",
              "\n",
              "          const docLinkHtml = 'Like what you see? Visit the ' +\n",
              "            '<a target=\"_blank\" href=https://colab.research.google.com/notebooks/data_table.ipynb>data table notebook</a>'\n",
              "            + ' to learn more about interactive tables.';\n",
              "          element.innerHTML = '';\n",
              "          dataTable['output_type'] = 'display_data';\n",
              "          await google.colab.output.renderOutput(dataTable, element);\n",
              "          const docLink = document.createElement('div');\n",
              "          docLink.innerHTML = docLinkHtml;\n",
              "          element.appendChild(docLink);\n",
              "        }\n",
              "      </script>\n",
              "    </div>\n",
              "  </div>\n",
              "  "
            ]
          },
          "metadata": {},
          "execution_count": 18
        }
      ]
    },
    {
      "cell_type": "markdown",
      "source": [
        "### Desviación Estandar.\n",
        "\n",
        "La desviación estandar es la raíz cuadrada de la suma de los datos x, o y menos la media su media, al cuadrado, entre el número de elementos.\n",
        "\n",
        "Nosotros ya hicimos estos calculos internos, y sólo restaría hacer las operaciones"
      ],
      "metadata": {
        "id": "Pv6o4t78CgfZ"
      }
    },
    {
      "cell_type": "code",
      "source": [
        "# llamamos a nuestra variable.\n",
        "media_cuadrado"
      ],
      "metadata": {
        "colab": {
          "base_uri": "https://localhost:8080/",
          "height": 0
        },
        "id": "BxHCDrKXDEus",
        "outputId": "fe777789-1793-43b5-a3fe-759267f94e07"
      },
      "execution_count": 19,
      "outputs": [
        {
          "output_type": "execute_result",
          "data": {
            "text/plain": [
              "    altura_cm     peso_kg\n",
              "0     68.0625    0.166736\n",
              "1     95.0625    3.578403\n",
              "2    175.5625  134.753403\n",
              "3    315.0625   73.816736\n",
              "4      3.0625    0.653403\n",
              "5     68.0625   38.543403\n",
              "6    333.0625  114.668403\n",
              "7     22.5625    6.803403\n",
              "8    162.5625   99.833403\n",
              "9      0.0625   16.741736\n",
              "10    22.5625   46.126736\n",
              "11    10.5625    0.983403"
            ],
            "text/html": [
              "\n",
              "  <div id=\"df-8e502e3d-e38f-4881-a981-d8fcfe662402\">\n",
              "    <div class=\"colab-df-container\">\n",
              "      <div>\n",
              "<style scoped>\n",
              "    .dataframe tbody tr th:only-of-type {\n",
              "        vertical-align: middle;\n",
              "    }\n",
              "\n",
              "    .dataframe tbody tr th {\n",
              "        vertical-align: top;\n",
              "    }\n",
              "\n",
              "    .dataframe thead th {\n",
              "        text-align: right;\n",
              "    }\n",
              "</style>\n",
              "<table border=\"1\" class=\"dataframe\">\n",
              "  <thead>\n",
              "    <tr style=\"text-align: right;\">\n",
              "      <th></th>\n",
              "      <th>altura_cm</th>\n",
              "      <th>peso_kg</th>\n",
              "    </tr>\n",
              "  </thead>\n",
              "  <tbody>\n",
              "    <tr>\n",
              "      <th>0</th>\n",
              "      <td>68.0625</td>\n",
              "      <td>0.166736</td>\n",
              "    </tr>\n",
              "    <tr>\n",
              "      <th>1</th>\n",
              "      <td>95.0625</td>\n",
              "      <td>3.578403</td>\n",
              "    </tr>\n",
              "    <tr>\n",
              "      <th>2</th>\n",
              "      <td>175.5625</td>\n",
              "      <td>134.753403</td>\n",
              "    </tr>\n",
              "    <tr>\n",
              "      <th>3</th>\n",
              "      <td>315.0625</td>\n",
              "      <td>73.816736</td>\n",
              "    </tr>\n",
              "    <tr>\n",
              "      <th>4</th>\n",
              "      <td>3.0625</td>\n",
              "      <td>0.653403</td>\n",
              "    </tr>\n",
              "    <tr>\n",
              "      <th>5</th>\n",
              "      <td>68.0625</td>\n",
              "      <td>38.543403</td>\n",
              "    </tr>\n",
              "    <tr>\n",
              "      <th>6</th>\n",
              "      <td>333.0625</td>\n",
              "      <td>114.668403</td>\n",
              "    </tr>\n",
              "    <tr>\n",
              "      <th>7</th>\n",
              "      <td>22.5625</td>\n",
              "      <td>6.803403</td>\n",
              "    </tr>\n",
              "    <tr>\n",
              "      <th>8</th>\n",
              "      <td>162.5625</td>\n",
              "      <td>99.833403</td>\n",
              "    </tr>\n",
              "    <tr>\n",
              "      <th>9</th>\n",
              "      <td>0.0625</td>\n",
              "      <td>16.741736</td>\n",
              "    </tr>\n",
              "    <tr>\n",
              "      <th>10</th>\n",
              "      <td>22.5625</td>\n",
              "      <td>46.126736</td>\n",
              "    </tr>\n",
              "    <tr>\n",
              "      <th>11</th>\n",
              "      <td>10.5625</td>\n",
              "      <td>0.983403</td>\n",
              "    </tr>\n",
              "  </tbody>\n",
              "</table>\n",
              "</div>\n",
              "      <button class=\"colab-df-convert\" onclick=\"convertToInteractive('df-8e502e3d-e38f-4881-a981-d8fcfe662402')\"\n",
              "              title=\"Convert this dataframe to an interactive table.\"\n",
              "              style=\"display:none;\">\n",
              "        \n",
              "  <svg xmlns=\"http://www.w3.org/2000/svg\" height=\"24px\"viewBox=\"0 0 24 24\"\n",
              "       width=\"24px\">\n",
              "    <path d=\"M0 0h24v24H0V0z\" fill=\"none\"/>\n",
              "    <path d=\"M18.56 5.44l.94 2.06.94-2.06 2.06-.94-2.06-.94-.94-2.06-.94 2.06-2.06.94zm-11 1L8.5 8.5l.94-2.06 2.06-.94-2.06-.94L8.5 2.5l-.94 2.06-2.06.94zm10 10l.94 2.06.94-2.06 2.06-.94-2.06-.94-.94-2.06-.94 2.06-2.06.94z\"/><path d=\"M17.41 7.96l-1.37-1.37c-.4-.4-.92-.59-1.43-.59-.52 0-1.04.2-1.43.59L10.3 9.45l-7.72 7.72c-.78.78-.78 2.05 0 2.83L4 21.41c.39.39.9.59 1.41.59.51 0 1.02-.2 1.41-.59l7.78-7.78 2.81-2.81c.8-.78.8-2.07 0-2.86zM5.41 20L4 18.59l7.72-7.72 1.47 1.35L5.41 20z\"/>\n",
              "  </svg>\n",
              "      </button>\n",
              "      \n",
              "  <style>\n",
              "    .colab-df-container {\n",
              "      display:flex;\n",
              "      flex-wrap:wrap;\n",
              "      gap: 12px;\n",
              "    }\n",
              "\n",
              "    .colab-df-convert {\n",
              "      background-color: #E8F0FE;\n",
              "      border: none;\n",
              "      border-radius: 50%;\n",
              "      cursor: pointer;\n",
              "      display: none;\n",
              "      fill: #1967D2;\n",
              "      height: 32px;\n",
              "      padding: 0 0 0 0;\n",
              "      width: 32px;\n",
              "    }\n",
              "\n",
              "    .colab-df-convert:hover {\n",
              "      background-color: #E2EBFA;\n",
              "      box-shadow: 0px 1px 2px rgba(60, 64, 67, 0.3), 0px 1px 3px 1px rgba(60, 64, 67, 0.15);\n",
              "      fill: #174EA6;\n",
              "    }\n",
              "\n",
              "    [theme=dark] .colab-df-convert {\n",
              "      background-color: #3B4455;\n",
              "      fill: #D2E3FC;\n",
              "    }\n",
              "\n",
              "    [theme=dark] .colab-df-convert:hover {\n",
              "      background-color: #434B5C;\n",
              "      box-shadow: 0px 1px 3px 1px rgba(0, 0, 0, 0.15);\n",
              "      filter: drop-shadow(0px 1px 2px rgba(0, 0, 0, 0.3));\n",
              "      fill: #FFFFFF;\n",
              "    }\n",
              "  </style>\n",
              "\n",
              "      <script>\n",
              "        const buttonEl =\n",
              "          document.querySelector('#df-8e502e3d-e38f-4881-a981-d8fcfe662402 button.colab-df-convert');\n",
              "        buttonEl.style.display =\n",
              "          google.colab.kernel.accessAllowed ? 'block' : 'none';\n",
              "\n",
              "        async function convertToInteractive(key) {\n",
              "          const element = document.querySelector('#df-8e502e3d-e38f-4881-a981-d8fcfe662402');\n",
              "          const dataTable =\n",
              "            await google.colab.kernel.invokeFunction('convertToInteractive',\n",
              "                                                     [key], {});\n",
              "          if (!dataTable) return;\n",
              "\n",
              "          const docLinkHtml = 'Like what you see? Visit the ' +\n",
              "            '<a target=\"_blank\" href=https://colab.research.google.com/notebooks/data_table.ipynb>data table notebook</a>'\n",
              "            + ' to learn more about interactive tables.';\n",
              "          element.innerHTML = '';\n",
              "          dataTable['output_type'] = 'display_data';\n",
              "          await google.colab.output.renderOutput(dataTable, element);\n",
              "          const docLink = document.createElement('div');\n",
              "          docLink.innerHTML = docLinkHtml;\n",
              "          element.appendChild(docLink);\n",
              "        }\n",
              "      </script>\n",
              "    </div>\n",
              "  </div>\n",
              "  "
            ]
          },
          "metadata": {},
          "execution_count": 19
        }
      ]
    },
    {
      "cell_type": "code",
      "source": [
        "# Sumamos todos nuestros datos\n",
        "suma_sq=media_cuadrado.sum()\n",
        "# Realizamos las operaciones de STD para x\n",
        "sx=(suma_sq['altura_cm']/12)**0.5\n",
        "# std de y\n",
        "sy = (suma_sq['peso_kg']/12)**0.5\n",
        "print(sx.round(2),sy.round(2))"
      ],
      "metadata": {
        "colab": {
          "base_uri": "https://localhost:8080/"
        },
        "id": "-FfRVP7SDONi",
        "outputId": "38e3aa0e-3129-4b20-bed4-0b00ebdc94f7"
      },
      "execution_count": 20,
      "outputs": [
        {
          "output_type": "stream",
          "name": "stdout",
          "text": [
            "10.31 6.69\n"
          ]
        }
      ]
    },
    {
      "cell_type": "code",
      "source": [
        "# Otras maneras de hacerlo más rápido es:\n",
        "np.std(df,axis=0).round(2) # Con Numpy"
      ],
      "metadata": {
        "colab": {
          "base_uri": "https://localhost:8080/"
        },
        "id": "SLOnRw8GJY0r",
        "outputId": "4a81974f-d7b8-45dd-d683-7140f4bd1f37"
      },
      "execution_count": 21,
      "outputs": [
        {
          "output_type": "execute_result",
          "data": {
            "text/plain": [
              "altura_cm    10.31\n",
              "peso_kg       6.69\n",
              "dtype: float64"
            ]
          },
          "metadata": {},
          "execution_count": 21
        }
      ]
    },
    {
      "cell_type": "code",
      "source": [
        "# Con Pandas:\n",
        "df.std(ddof=0).round(2)"
      ],
      "metadata": {
        "colab": {
          "base_uri": "https://localhost:8080/"
        },
        "id": "XzoQdkqYJ-dm",
        "outputId": "39c73997-c2fc-43fa-f353-e66902a8e076"
      },
      "execution_count": 22,
      "outputs": [
        {
          "output_type": "execute_result",
          "data": {
            "text/plain": [
              "altura_cm    10.31\n",
              "peso_kg       6.69\n",
              "dtype: float64"
            ]
          },
          "metadata": {},
          "execution_count": 22
        }
      ]
    },
    {
      "cell_type": "markdown",
      "source": [
        "### Resumen ejercicio 2:\n",
        "Entonces los datos que llevamos son:\n",
        "\n",
        "- La covarianza:\n",
        "  - s_xy = 59.70\n",
        "- La varianza estándar de x:\n",
        "  - sx = 10.31\n",
        "- La varianza estándar de y:\n",
        "  - sy = 6.69\n",
        "\n",
        "Ya teniendo estos datos, podemos calcular el **Coeficiente de Pearson**"
      ],
      "metadata": {
        "id": "Ksj3WPHCLUPi"
      }
    },
    {
      "cell_type": "code",
      "source": [
        "# Llamos a nuestras variables:\n",
        "sx # La Std de X\n",
        "sy # La Std de Y\n",
        "s_xy = cov # La covarianza"
      ],
      "metadata": {
        "id": "WkTZaLu9MNet"
      },
      "execution_count": 23,
      "outputs": []
    },
    {
      "cell_type": "markdown",
      "source": [
        "#### Fórmula del **Coeficiente de Pearson**:\n",
        "![coef-pearson](https://encrypted-tbn0.gstatic.com/images?q=tbn:ANd9GcQUJHY8HSV0MEjZY79zrFFjNynHsJJ1x8dfHzq8UHcqcPUaNHrCBZ40eCC4KQ70OqwM1Q&usqp=CAU)\n",
        "\n",
        "En dónde la expresión sería:\n",
        "R es igual a la covarianza de (x,y) entre la desviación estándar de x, multiplicado por la desviación estándar de y"
      ],
      "metadata": {
        "id": "8Z2i1SfHMvFL"
      }
    },
    {
      "cell_type": "code",
      "source": [
        "r_pearson = s_xy/(sx*sy)\n",
        "r_pearson.round(2)"
      ],
      "metadata": {
        "colab": {
          "base_uri": "https://localhost:8080/"
        },
        "id": "ZCdU9YtFNIvG",
        "outputId": "49e32100-0734-429a-8f6f-9974e22ccef8"
      },
      "execution_count": 24,
      "outputs": [
        {
          "output_type": "execute_result",
          "data": {
            "text/plain": [
              "0.87"
            ]
          },
          "metadata": {},
          "execution_count": 24
        }
      ]
    },
    {
      "cell_type": "markdown",
      "source": [
        "Nuestro resultado del coeficiente de relación de Pearson es de: **0.87**\n",
        "\n",
        "El coeficiente de **Pearson** nos entrega dos posibles resultados cercanos a 1 y -1. Cuando este nos entrega un valor *positivo* la correlacion nos dice que entre mas aumenta el valor de una variable, más va a aumentar el valor de la otra variable.\n",
        "\n",
        "Por lo contrario, si nos entrega el resultado un valor negativo, quiere decir que a mayor valor de una variable, disminuye los valores de la otra variable.\n",
        "\n",
        "Cuando el valor es igual a 0, nos expresa que nuestras variables no tienen relación.\n",
        "\n",
        "Por lo tanto, si nuestro resultado es igual, o cercano a **1**, o **-1**\n",
        "Significa que nuestros datos están en una linea recta."
      ],
      "metadata": {
        "id": "nZeniY7vOtKz"
      }
    },
    {
      "cell_type": "markdown",
      "source": [
        "#### **Coeficiente de determinación**\n",
        "\n",
        "Nos ayuda para determinar el nivel de exactitud para trazar una rectar a traves de la distribución de nuestros datos. Y se obtiene a traves del coeficiente de **Pearson**\n",
        "\n",
        "Se representa por un porcentaje, entre más se acerca al 100% existe una mayor relación lineal.\n",
        "\n",
        "## **r²**"
      ],
      "metadata": {
        "id": "fRVWPdlERrRv"
      }
    },
    {
      "cell_type": "code",
      "source": [
        "# Sólo es elevar al cuadro nuestro resultado \n",
        "# Y lo multiplicamos por 100 para sacar el porcentaje.\n",
        "r_dt = (r_pearson**2).round(2)\n",
        "print(f'La relación lineal es de: {r_dt*100}%')"
      ],
      "metadata": {
        "colab": {
          "base_uri": "https://localhost:8080/"
        },
        "id": "vjZhzv6YSqFD",
        "outputId": "c014e503-1fdb-47ff-f763-fc1ce53473e8"
      },
      "execution_count": 25,
      "outputs": [
        {
          "output_type": "stream",
          "name": "stdout",
          "text": [
            "La relación lineal es de: 75.0%\n"
          ]
        }
      ]
    },
    {
      "cell_type": "markdown",
      "source": [
        "### Concluimos el ejercicio 2, en donde vemos que sí existe una relación lineal y es de un **75%**"
      ],
      "metadata": {
        "id": "UYW6ltTWU09r"
      }
    },
    {
      "cell_type": "markdown",
      "source": [
        "## **3. Obtenga las rectas de ajuste por mínimos cuadrados.**\n",
        "\n",
        "- 3.1. Recta de regresión de Y sobre X(Y es la variable dependiente, X es independiente)\n",
        "\n",
        "- 3.2. Recta de regresión de X sobre Y(X es la variable dependiente, Y es independiente)\n",
        "\n",
        "3.1.\n",
        "Sería representado así: ***y° = a + bx***\n",
        "\n",
        "Dónde y es un valor aproximado y se representa con un * dónde a es igual a la media de Y menos el coeficiente de regresión(**b**) de la media de x\n",
        "Visto así sería: \n",
        "\n",
        "**a = Y - b X**\n",
        "\n",
        "y **b** es el coeficiente de regresión, representado así:\n",
        "\n",
        "**b = s_xy/sx²**\n",
        "\n",
        "3.2 Las formulas serían iguales, sólo intercambiandolas\n",
        "\n",
        "**x° = a + by**\n",
        "\n",
        "**b = s_xy/sy²**\n",
        "\n",
        "**a = X - b Y**"
      ],
      "metadata": {
        "id": "B_CZ8gMTXQen"
      }
    },
    {
      "cell_type": "markdown",
      "source": [
        "### 3.1. Recta de regresión de Y sobre X(Y es la variable dependiente, X es independiente)\n",
        "\n",
        "**Fórmulas:**\n",
        "- y* = a+b*x*\n",
        "  - *b* = s_xy / sx²\n",
        "  - *a* = med_y - (*b*(med_x))*texto en cursiva*\n"
      ],
      "metadata": {
        "id": "hbKlP5oVoPg8"
      }
    },
    {
      "cell_type": "code",
      "source": [
        "# Guardamos la media en variables X y Y\n",
        "med_x = np.mean(df['altura_cm'])\n",
        "\n",
        "med_y = np.mean(df['peso_kg'])"
      ],
      "metadata": {
        "id": "gGW1WMYpnUR_"
      },
      "execution_count": 26,
      "outputs": []
    },
    {
      "cell_type": "code",
      "source": [
        "# Llamos a nuestras variables:\n",
        "sx # La Std de X\n",
        "sy # La Std de Y\n",
        "s_xy = cov # La covarianza"
      ],
      "metadata": {
        "id": "CX91E-vifSUf"
      },
      "execution_count": 27,
      "outputs": []
    },
    {
      "cell_type": "code",
      "source": [
        "# Coeficiente de regresión: \n",
        "b_x = s_xy/(sx**2)\n",
        "b_x.round(2)"
      ],
      "metadata": {
        "colab": {
          "base_uri": "https://localhost:8080/"
        },
        "id": "m4FNf_laprcm",
        "outputId": "d1913aea-f68e-479c-be69-0c87e48376e4"
      },
      "execution_count": 28,
      "outputs": [
        {
          "output_type": "execute_result",
          "data": {
            "text/plain": [
              "0.56"
            ]
          },
          "metadata": {},
          "execution_count": 28
        }
      ]
    },
    {
      "cell_type": "code",
      "source": [
        "# Con el coeficiente de regresión podemos calcular a\n",
        "\n",
        "a_y = med_y-(b_x.round(2)*med_x)\n",
        "a_y.round(2)\n"
      ],
      "metadata": {
        "colab": {
          "base_uri": "https://localhost:8080/"
        },
        "id": "_WqGQWI5qlu9",
        "outputId": "77664e61-0990-4f1a-b80b-7bc1faab61a8"
      },
      "execution_count": 29,
      "outputs": [
        {
          "output_type": "execute_result",
          "data": {
            "text/plain": [
              "-25.67"
            ]
          },
          "metadata": {},
          "execution_count": 29
        }
      ]
    },
    {
      "cell_type": "markdown",
      "source": [
        "#### La recta de regresión de Y (3.1)\n",
        "\n",
        "**Fórmula:**\n",
        "- y* = a_y+b_x(*x*)\n",
        "\n"
      ],
      "metadata": {
        "id": "Qz4g2wwqsWKD"
      }
    },
    {
      "cell_type": "code",
      "source": [
        "# Recta de regresión de Y\n",
        "x = 0\n",
        "y_aprox = a_y + (b_x*x)\n",
        "y_aprox.round(2)"
      ],
      "metadata": {
        "colab": {
          "base_uri": "https://localhost:8080/"
        },
        "id": "jNcfT-sas9b0",
        "outputId": "983f1ff5-dfec-4d1e-db76-1e473bc7f0fd"
      },
      "execution_count": 30,
      "outputs": [
        {
          "output_type": "execute_result",
          "data": {
            "text/plain": [
              "-25.67"
            ]
          },
          "metadata": {},
          "execution_count": 30
        }
      ]
    },
    {
      "cell_type": "markdown",
      "source": [
        "### 3.2. Recta de regresión de X sobre Y(X es la variable dependiente, Y es independiente)\n",
        "\n",
        "**Fórmulas:**\n",
        "\n",
        "- Recta de regresion: \n",
        "  - x* = a+b*y*\n",
        "- Coeficiente de regresión:  \n",
        "  - *b* = s_xy / sy²\n",
        "  - *a* = med_x - (*b* * med_y)\n"
      ],
      "metadata": {
        "id": "Bb7rcMCYv2dD"
      }
    },
    {
      "cell_type": "code",
      "source": [
        "# Coeficiente de regresión.\n",
        "b_y = (s_xy/(sy**2)).round(2)\n",
        "b_y"
      ],
      "metadata": {
        "colab": {
          "base_uri": "https://localhost:8080/"
        },
        "id": "d4DokeEExoPy",
        "outputId": "0194f319-0025-4827-fc2c-38e82509c762"
      },
      "execution_count": 31,
      "outputs": [
        {
          "output_type": "execute_result",
          "data": {
            "text/plain": [
              "1.33"
            ]
          },
          "metadata": {},
          "execution_count": 31
        }
      ]
    },
    {
      "cell_type": "code",
      "source": [
        "# Valor de la recta a_x\n",
        "a_x = med_x - (b_y*med_y)\n",
        "a_x.round(2)"
      ],
      "metadata": {
        "colab": {
          "base_uri": "https://localhost:8080/"
        },
        "id": "XZOTPh-OyLOu",
        "outputId": "39dc38e7-f4d0-4792-d175-54ca3323e57e"
      },
      "execution_count": 32,
      "outputs": [
        {
          "output_type": "execute_result",
          "data": {
            "text/plain": [
              "77.46"
            ]
          },
          "metadata": {},
          "execution_count": 32
        }
      ]
    },
    {
      "cell_type": "markdown",
      "source": [
        "#### La recta de regresión de X (3.2)\n",
        "\n",
        "**Fórmula:**\n",
        "\n",
        "- x* = a_x+b_y(*y*)\n"
      ],
      "metadata": {
        "id": "2IB_weiJ15ie"
      }
    },
    {
      "cell_type": "code",
      "source": [
        "# Recta de regresión de x sobre y\n",
        "y = 0\n",
        "x_aprox = a_x + (b_y*y)\n",
        "x_aprox.round(2)"
      ],
      "metadata": {
        "colab": {
          "base_uri": "https://localhost:8080/"
        },
        "id": "ENj4HZLt2iRn",
        "outputId": "677147e1-e4a9-44cb-df41-a5b89547d08a"
      },
      "execution_count": 33,
      "outputs": [
        {
          "output_type": "execute_result",
          "data": {
            "text/plain": [
              "77.46"
            ]
          },
          "metadata": {},
          "execution_count": 33
        }
      ]
    },
    {
      "cell_type": "markdown",
      "source": [
        "## **4. ¿Cuál es el peso aproximado de una estudiante que mide 169 cm?**\n",
        "\n",
        "Para resolver este ejercicio, utilizaremos nuestra recta de regresión de y\n",
        "\n",
        "- **Fórmula:**\n",
        "  - y* = a_y+b_x(x)"
      ],
      "metadata": {
        "id": "x1pABwsY25Yn"
      }
    },
    {
      "cell_type": "code",
      "source": [
        "# Recta de regresión de Y sobre x\n",
        "# Dónde x es nuestra variable dependiente\n",
        "x = 169\n",
        "y_aprox = a_y + (b_x*x)\n",
        "peso_aprox=y_aprox.round(2)\n",
        "print(f'El peso aproximado de una persona que mide {x}cm. Es de {peso_aprox}kg.')"
      ],
      "metadata": {
        "colab": {
          "base_uri": "https://localhost:8080/"
        },
        "id": "IrjCHQoH4Jpa",
        "outputId": "d89446e2-a24b-480a-8e2a-90f25eed9b91"
      },
      "execution_count": 40,
      "outputs": [
        {
          "output_type": "stream",
          "name": "stdout",
          "text": [
            "El peso aproximado de una persona que mide 169cm. Es de 69.19kg.\n"
          ]
        }
      ]
    },
    {
      "cell_type": "markdown",
      "source": [
        "## **5. ¿Cuál es la altura aproximada de un estudiante que pesa 77kg?**\n",
        "\n",
        "Para este ejercicio utilizaremos nuestra recta de regresión de x sobre y\n",
        "\n",
        "- **Fórmula:**\n",
        "  - x* = a_x+b_y(y)\n",
        "\n",
        "Como en el ejercicio cuatro, calcularemos con el proceso que ya tenemos."
      ],
      "metadata": {
        "id": "1geDsiZv67n0"
      }
    },
    {
      "cell_type": "code",
      "source": [
        "# Recta de regresión de x sobre y\n",
        "y = 77\n",
        "x_aprox = a_x + (b_y*y)\n",
        "x=x_aprox.round(2)\n",
        "print(f'La estatura promedio de una persona que pesa {y}kg. Su estatura aproximada sería de {x}cm.')"
      ],
      "metadata": {
        "colab": {
          "base_uri": "https://localhost:8080/"
        },
        "id": "ALVQ29n98UEj",
        "outputId": "f6e09683-9234-4150-e04f-1f5dc5c4b437"
      },
      "execution_count": 42,
      "outputs": [
        {
          "output_type": "stream",
          "name": "stdout",
          "text": [
            "La estatura promedio de una persona que pesa 77kg. Su estatura aproximada sería de 179.87cm.\n"
          ]
        }
      ]
    },
    {
      "cell_type": "markdown",
      "source": [
        "# Inicio, segundo ejercicio.\n",
        "\n",
        "La siguiente tabla indica el censo de trabajadores agrícolas de EE.UU. los años de 1935, 1940, 1945,...,1980, en millones.\n",
        "\n",
        "1. Representa los datos gráficamente\n",
        "2. Indique si existe correlación lineal entre los datos\n",
        "3. Calcule las rectas de regresión, por mínimos cuadrados, que ajuste esos datos.\n",
        "4. Predecir el censo de trabajadores agrícolas en el año 1990, suponiendo que la tendencia se mantenga.\n",
        "5. ¿En qué año había aproximadamente 5 millones de trabajadores agrícolas?"
      ],
      "metadata": {
        "id": "VAjp58Fl0neO"
      }
    },
    {
      "cell_type": "markdown",
      "source": [
        "### Necesitamos primero crear los datos.\n",
        "Para crear el dataframe que necesitas, primero importamos la librería pandas y luego creamos dos listas, una para los años y otra para el número de millones de trabajadores. Luego, combinamos estas dos listas en un dataframe usando el método **pd.DataFrame()** de pandas."
      ],
      "metadata": {
        "id": "WnD3G0ll4045"
      }
    },
    {
      "cell_type": "code",
      "source": [
        "import random\n",
        "\n",
        "years = list(range(1935, 1981, 5))\n",
        "num_workers = [round(random.uniform(1, 20), 1) for _ in range(len(years))]\n",
        "\n",
        "df = pd.DataFrame({'año': years, 'millones_trabajadores': num_workers})\n",
        "df.head()\n"
      ],
      "metadata": {
        "colab": {
          "base_uri": "https://localhost:8080/",
          "height": 0
        },
        "id": "hznjHMsW15oe",
        "outputId": "ccf5a4fa-42fe-4f7b-96c7-f954afaeb10a"
      },
      "execution_count": 65,
      "outputs": [
        {
          "output_type": "execute_result",
          "data": {
            "text/plain": [
              "    año  millones_trabajadores\n",
              "0  1935                   10.2\n",
              "1  1940                   13.7\n",
              "2  1945                    2.9\n",
              "3  1950                   17.0\n",
              "4  1955                    1.9"
            ],
            "text/html": [
              "\n",
              "  <div id=\"df-99e7744a-13c4-4d48-b3a3-51f2db3df36b\">\n",
              "    <div class=\"colab-df-container\">\n",
              "      <div>\n",
              "<style scoped>\n",
              "    .dataframe tbody tr th:only-of-type {\n",
              "        vertical-align: middle;\n",
              "    }\n",
              "\n",
              "    .dataframe tbody tr th {\n",
              "        vertical-align: top;\n",
              "    }\n",
              "\n",
              "    .dataframe thead th {\n",
              "        text-align: right;\n",
              "    }\n",
              "</style>\n",
              "<table border=\"1\" class=\"dataframe\">\n",
              "  <thead>\n",
              "    <tr style=\"text-align: right;\">\n",
              "      <th></th>\n",
              "      <th>año</th>\n",
              "      <th>millones_trabajadores</th>\n",
              "    </tr>\n",
              "  </thead>\n",
              "  <tbody>\n",
              "    <tr>\n",
              "      <th>0</th>\n",
              "      <td>1935</td>\n",
              "      <td>10.2</td>\n",
              "    </tr>\n",
              "    <tr>\n",
              "      <th>1</th>\n",
              "      <td>1940</td>\n",
              "      <td>13.7</td>\n",
              "    </tr>\n",
              "    <tr>\n",
              "      <th>2</th>\n",
              "      <td>1945</td>\n",
              "      <td>2.9</td>\n",
              "    </tr>\n",
              "    <tr>\n",
              "      <th>3</th>\n",
              "      <td>1950</td>\n",
              "      <td>17.0</td>\n",
              "    </tr>\n",
              "    <tr>\n",
              "      <th>4</th>\n",
              "      <td>1955</td>\n",
              "      <td>1.9</td>\n",
              "    </tr>\n",
              "  </tbody>\n",
              "</table>\n",
              "</div>\n",
              "      <button class=\"colab-df-convert\" onclick=\"convertToInteractive('df-99e7744a-13c4-4d48-b3a3-51f2db3df36b')\"\n",
              "              title=\"Convert this dataframe to an interactive table.\"\n",
              "              style=\"display:none;\">\n",
              "        \n",
              "  <svg xmlns=\"http://www.w3.org/2000/svg\" height=\"24px\"viewBox=\"0 0 24 24\"\n",
              "       width=\"24px\">\n",
              "    <path d=\"M0 0h24v24H0V0z\" fill=\"none\"/>\n",
              "    <path d=\"M18.56 5.44l.94 2.06.94-2.06 2.06-.94-2.06-.94-.94-2.06-.94 2.06-2.06.94zm-11 1L8.5 8.5l.94-2.06 2.06-.94-2.06-.94L8.5 2.5l-.94 2.06-2.06.94zm10 10l.94 2.06.94-2.06 2.06-.94-2.06-.94-.94-2.06-.94 2.06-2.06.94z\"/><path d=\"M17.41 7.96l-1.37-1.37c-.4-.4-.92-.59-1.43-.59-.52 0-1.04.2-1.43.59L10.3 9.45l-7.72 7.72c-.78.78-.78 2.05 0 2.83L4 21.41c.39.39.9.59 1.41.59.51 0 1.02-.2 1.41-.59l7.78-7.78 2.81-2.81c.8-.78.8-2.07 0-2.86zM5.41 20L4 18.59l7.72-7.72 1.47 1.35L5.41 20z\"/>\n",
              "  </svg>\n",
              "      </button>\n",
              "      \n",
              "  <style>\n",
              "    .colab-df-container {\n",
              "      display:flex;\n",
              "      flex-wrap:wrap;\n",
              "      gap: 12px;\n",
              "    }\n",
              "\n",
              "    .colab-df-convert {\n",
              "      background-color: #E8F0FE;\n",
              "      border: none;\n",
              "      border-radius: 50%;\n",
              "      cursor: pointer;\n",
              "      display: none;\n",
              "      fill: #1967D2;\n",
              "      height: 32px;\n",
              "      padding: 0 0 0 0;\n",
              "      width: 32px;\n",
              "    }\n",
              "\n",
              "    .colab-df-convert:hover {\n",
              "      background-color: #E2EBFA;\n",
              "      box-shadow: 0px 1px 2px rgba(60, 64, 67, 0.3), 0px 1px 3px 1px rgba(60, 64, 67, 0.15);\n",
              "      fill: #174EA6;\n",
              "    }\n",
              "\n",
              "    [theme=dark] .colab-df-convert {\n",
              "      background-color: #3B4455;\n",
              "      fill: #D2E3FC;\n",
              "    }\n",
              "\n",
              "    [theme=dark] .colab-df-convert:hover {\n",
              "      background-color: #434B5C;\n",
              "      box-shadow: 0px 1px 3px 1px rgba(0, 0, 0, 0.15);\n",
              "      filter: drop-shadow(0px 1px 2px rgba(0, 0, 0, 0.3));\n",
              "      fill: #FFFFFF;\n",
              "    }\n",
              "  </style>\n",
              "\n",
              "      <script>\n",
              "        const buttonEl =\n",
              "          document.querySelector('#df-99e7744a-13c4-4d48-b3a3-51f2db3df36b button.colab-df-convert');\n",
              "        buttonEl.style.display =\n",
              "          google.colab.kernel.accessAllowed ? 'block' : 'none';\n",
              "\n",
              "        async function convertToInteractive(key) {\n",
              "          const element = document.querySelector('#df-99e7744a-13c4-4d48-b3a3-51f2db3df36b');\n",
              "          const dataTable =\n",
              "            await google.colab.kernel.invokeFunction('convertToInteractive',\n",
              "                                                     [key], {});\n",
              "          if (!dataTable) return;\n",
              "\n",
              "          const docLinkHtml = 'Like what you see? Visit the ' +\n",
              "            '<a target=\"_blank\" href=https://colab.research.google.com/notebooks/data_table.ipynb>data table notebook</a>'\n",
              "            + ' to learn more about interactive tables.';\n",
              "          element.innerHTML = '';\n",
              "          dataTable['output_type'] = 'display_data';\n",
              "          await google.colab.output.renderOutput(dataTable, element);\n",
              "          const docLink = document.createElement('div');\n",
              "          docLink.innerHTML = docLinkHtml;\n",
              "          element.appendChild(docLink);\n",
              "        }\n",
              "      </script>\n",
              "    </div>\n",
              "  </div>\n",
              "  "
            ]
          },
          "metadata": {},
          "execution_count": 65
        }
      ]
    },
    {
      "cell_type": "code",
      "source": [
        "# Importamos nuestras demás librerías.\n",
        "import numpy as np\n",
        "import matplotlib.pyplot as plt\n",
        "import seaborn as sns\n",
        "from scipy.stats import linregress"
      ],
      "metadata": {
        "id": "MXryFX4r6Uc_"
      },
      "execution_count": 66,
      "outputs": []
    },
    {
      "cell_type": "markdown",
      "source": [
        "## 1. Graficando los datos usando seaborn "
      ],
      "metadata": {
        "id": "xTMz809g9AB7"
      }
    },
    {
      "cell_type": "code",
      "source": [
        "# Scatterplot\n",
        "sns.scatterplot(\n",
        "    data=df,\n",
        "    x='año',\n",
        "    y='millones_trabajadores'\n",
        ")\n",
        "plt.ylabel('millones de trabajadores agrícolas')\n",
        "plt.show()"
      ],
      "metadata": {
        "colab": {
          "base_uri": "https://localhost:8080/",
          "height": 0
        },
        "id": "TMx58XBL9cEz",
        "outputId": "0e14f70f-4a4a-4d43-c62d-6bd8fd43f995"
      },
      "execution_count": 67,
      "outputs": [
        {
          "output_type": "display_data",
          "data": {
            "text/plain": [
              "<Figure size 432x288 with 1 Axes>"
            ],
            "image/png": "[encoded data removed]"
          },
          "metadata": {}
        }
      ]
    },
    {
      "cell_type": "code",
      "source": [
        "# Grafico de disperción lineal.\n",
        "sns.lmplot(x='año', y='millones_trabajadores', data=df)\n",
        "plt.xlabel('Año')\n",
        "plt.ylabel('Millones de trabajadores agrícolas')\n",
        "plt.show()\n"
      ],
      "metadata": {
        "colab": {
          "base_uri": "https://localhost:8080/",
          "height": 0
        },
        "id": "8pKOkEUY8_Wa",
        "outputId": "d398ad0d-9e7f-40bb-a891-6242b4b21d63"
      },
      "execution_count": 68,
      "outputs": [
        {
          "output_type": "display_data",
          "data": {
            "text/plain": [
              "<Figure size 360x360 with 1 Axes>"
            ],
            "image/png": "[encoded data removed]"
          },
          "metadata": {}
        }
      ]
    },
    {
      "cell_type": "markdown",
      "source": [
        "\n",
        "## 2. Indique si existe correlación lineal entre los datos"
      ],
      "metadata": {
        "id": "d1TkgI-C_DRg"
      }
    },
    {
      "cell_type": "markdown",
      "source": [
        "Para determinar si existe correlación lineal entre los datos, podemos calcular el coeficiente de correlación de Pearson (r), que mide el grado de asociación lineal entre dos variables. En Python, podemos calcular este coeficiente utilizando la función corr() de pandas, de la siguiente manera:"
      ],
      "metadata": {
        "id": "pUWlsOCb_xS5"
      }
    },
    {
      "cell_type": "code",
      "source": [
        "r = df.corr()['año']['millones_trabajadores']\n",
        "print(f\"Coeficiente de correlación: {r.round(2)}\")"
      ],
      "metadata": {
        "colab": {
          "base_uri": "https://localhost:8080/"
        },
        "id": "gltes9Fq_5um",
        "outputId": "73bad43c-be4d-468f-fb58-7bf0b304a9be"
      },
      "execution_count": 69,
      "outputs": [
        {
          "output_type": "stream",
          "name": "stdout",
          "text": [
            "Coeficiente de correlación: 0.04\n"
          ]
        }
      ]
    },
    {
      "cell_type": "markdown",
      "source": [
        "### 2. La correlación es negativa.\n",
        "El resultado obtenido es r = -0.21, lo cual indica que hay una correlación negativa entre los años y el número de trabajadores agrícolas."
      ],
      "metadata": {
        "id": "-fy3iF1fAcG5"
      }
    },
    {
      "cell_type": "markdown",
      "source": [
        "\n",
        "## 3. Calcule las rectas de regresión, por mínimos cuadrados, que ajuste esos datos.\n",
        "Para calcular las rectas de regresión por mínimos cuadrados que ajusten los datos, podemos utilizar la función linregress() de la librería scipy.stats, que nos permite calcular varios parámetros estadísticos de la regresión lineal, incluyendo la pendiente y la ordenada al origen."
      ],
      "metadata": {
        "id": "WPa99MCm_TN5"
      }
    },
    {
      "cell_type": "code",
      "source": [
        "from scipy.stats import linregress\n",
        "\n",
        "slope, intercept, r_value, p_value, std_err = linregress(df['año'], df['millones_trabajadores'])\n",
        "print(f\"Pendiente: {slope:.2f}\")\n",
        "print(f\"Ordenada al origen: {intercept:.2f}\")\n"
      ],
      "metadata": {
        "colab": {
          "base_uri": "https://localhost:8080/"
        },
        "id": "Me1nlBXAA7qU",
        "outputId": "e8cc8773-6c8f-4f9e-d5a5-a4052b460b52"
      },
      "execution_count": 70,
      "outputs": [
        {
          "output_type": "stream",
          "name": "stdout",
          "text": [
            "Pendiente: 0.02\n",
            "Ordenada al origen: -21.14\n"
          ]
        }
      ]
    },
    {
      "cell_type": "markdown",
      "source": [
        "### 3. Resultado\n",
        "Los resultados obtenidos son pendiente = -0.06 y ordenada al origen = 137, lo cual indica que la tendencia general es una disminución del número de trabajadores agrícolas a lo largo de los años.\n"
      ],
      "metadata": {
        "id": "rjwjjhAABJAN"
      }
    },
    {
      "cell_type": "markdown",
      "source": [
        "## 4. Predecir el censo de trabajadores agrícolas en el año 1990, suponiendo que la tendencia se mantenga.\n",
        "Para predecir el censo de trabajadores agrícolas en el año 1990, podemos utilizar la recta de regresión obtenida en el punto anterior y simplemente sustituir el valor de x por 1990 en la ecuación de la recta."
      ],
      "metadata": {
        "id": "JA-x2_dx_bMD"
      }
    },
    {
      "cell_type": "code",
      "source": [
        "year = 1990\n",
        "predicted_num_workers = slope * year + intercept\n",
        "print(f\"Se espera que el censo de trabajadores agrícolas en {year} sea de {predicted_num_workers:.2f} millones\")"
      ],
      "metadata": {
        "colab": {
          "base_uri": "https://localhost:8080/"
        },
        "id": "QAkIP0mKBgT_",
        "outputId": "008873d6-5675-4220-8c17-aee26cdc7395"
      },
      "execution_count": 71,
      "outputs": [
        {
          "output_type": "stream",
          "name": "stdout",
          "text": [
            "Se espera que el censo de trabajadores agrícolas en 1990 sea de 9.49 millones\n"
          ]
        }
      ]
    },
    {
      "cell_type": "markdown",
      "source": [
        "## 5. ¿En qué año había aproximadamente 5 millones de trabajadores agrícolas?\n",
        "Para determinar en qué año había aproximadamente 5 millones de trabajadores agrícolas, podemos utilizar la ecuación de la recta de regresión obtenida en el punto 3 y despejar la variable x para obtener el año correspondiente."
      ],
      "metadata": {
        "id": "c3_JHk6N_h4W"
      }
    },
    {
      "cell_type": "code",
      "source": [
        "year_5_millones = (5 - intercept) / slope\n",
        "print(f\"El año aproximado en el que había 5 millones de trabajadores agrícolas fue {int(year_5_millones)}\")\n"
      ],
      "metadata": {
        "colab": {
          "base_uri": "https://localhost:8080/"
        },
        "id": "wHr68mNYBrxF",
        "outputId": "f8555180-ba6c-4d05-9ee1-194d6fa8319f"
      },
      "execution_count": 76,
      "outputs": [
        {
          "output_type": "stream",
          "name": "stdout",
          "text": [
            "El año aproximado en el que había 5 millones de trabajadores agrícolas fue 1698\n"
          ]
        }
      ]
    }
  ]
}